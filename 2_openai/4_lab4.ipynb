{
 "cells": [
  {
   "cell_type": "markdown",
   "metadata": {},
   "source": [
    "## Deep Research\n",
    "\n",
    "One of the classic cross-business Agentic use cases! This is huge."
   ]
  },
  {
   "cell_type": "markdown",
   "metadata": {},
   "source": [
    "<table style=\"margin: 0; text-align: left; width:100%\">\n",
    "    <tr>\n",
    "        <td style=\"width: 150px; height: 150px; vertical-align: middle;\">\n",
    "            <img src=\"../assets/business.png\" width=\"150\" height=\"150\" style=\"display: block;\" />\n",
    "        </td>\n",
    "        <td>\n",
    "            <h2 style=\"color:#00bfff;\">Commercial implications</h2>\n",
    "            <span style=\"color:#00bfff;\">A Deep Research agent is broadly applicable to any business area, and to your own day-to-day activities. You can make use of this yourself!\n",
    "            </span>\n",
    "        </td>\n",
    "    </tr>\n",
    "</table>"
   ]
  },
  {
   "cell_type": "code",
   "execution_count": 16,
   "metadata": {},
   "outputs": [],
   "source": [
    "from agents import Agent, WebSearchTool, trace, Runner, gen_trace_id, function_tool\n",
    "from agents.model_settings import ModelSettings\n",
    "from pydantic import BaseModel, Field\n",
    "from dotenv import load_dotenv\n",
    "import asyncio\n",
    "import sendgrid\n",
    "import os\n",
    "from sendgrid.helpers.mail import Mail, Email, To, Content\n",
    "from typing import Dict\n",
    "from IPython.display import display, Markdown"
   ]
  },
  {
   "cell_type": "code",
   "execution_count": 17,
   "metadata": {},
   "outputs": [
    {
     "data": {
      "text/plain": [
       "True"
      ]
     },
     "execution_count": 17,
     "metadata": {},
     "output_type": "execute_result"
    }
   ],
   "source": [
    "load_dotenv(override=True)"
   ]
  },
  {
   "cell_type": "markdown",
   "metadata": {},
   "source": [
    "## OpenAI Hosted Tools\n",
    "\n",
    "OpenAI Agents SDK includes the following hosted tools:\n",
    "\n",
    "The `WebSearchTool` lets an agent search the web.  \n",
    "The `FileSearchTool` allows retrieving information from your OpenAI Vector Stores.  \n",
    "The `ComputerTool` allows automating computer use tasks like taking screenshots and clicking.\n",
    "\n",
    "### Important note - API charge of WebSearchTool\n",
    "\n",
    "This is costing me 2.5 cents per call for OpenAI WebSearchTool. That can add up to $2-$3 for the next 2 labs. We'll use free and low cost Search tools with other platforms, so feel free to skip running this if the cost is a concern. Also student Christian W. pointed out that OpenAI can sometimes charge for multiple searches for a single call, so it could sometimes cost more than 2.5 cents per call.\n",
    "\n",
    "Costs are here: https://platform.openai.com/docs/pricing#web-search"
   ]
  },
  {
   "cell_type": "code",
   "execution_count": 3,
   "metadata": {},
   "outputs": [],
   "source": [
    "INSTRUCTIONS = \"You are a research assistant. Given a search term, you search the web for that term and \\\n",
    "produce a concise summary of the results. The summary must 2-3 paragraphs and less than 300 \\\n",
    "words. Capture the main points. Write succintly, no need to have complete sentences or good \\\n",
    "grammar. This will be consumed by someone synthesizing a report, so it's vital you capture the \\\n",
    "essence and ignore any fluff. Do not include any additional commentary other than the summary itself.\"\n",
    "\n",
    "search_agent = Agent(\n",
    "    name=\"Search agent\",\n",
    "    instructions=INSTRUCTIONS,\n",
    "    tools=[WebSearchTool(search_context_size=\"low\")],\n",
    "    model=\"gpt-4o-mini\",\n",
    "    model_settings=ModelSettings(tool_choice=\"required\"),\n",
    ")"
   ]
  },
  {
   "cell_type": "code",
   "execution_count": 4,
   "metadata": {},
   "outputs": [
    {
     "data": {
      "text/markdown": [
       "In 2025, several AI agent frameworks have emerged, enhancing the development and deployment of intelligent systems. Notable among them are:\n",
       "\n",
       "- **Agent Lightning**: A flexible framework enabling reinforcement learning-based training of large language models (LLMs) for any AI agent. It decouples agent execution from training, allowing seamless integration with existing agents developed through various methods. ([arxiv.org](https://arxiv.org/abs/2508.03680?utm_source=openai))\n",
       "\n",
       "- **Polymorphic Combinatorial Framework (PCF)**: This framework leverages LLMs and mathematical principles to guide the design of adaptive AI agents. It enables real-time parameter reconfiguration through combinatorial spaces, allowing agents to dynamically adjust their behaviors. ([arxiv.org](https://arxiv.org/abs/2508.01581?utm_source=openai))\n",
       "\n",
       "- **GoalfyMax**: A protocol-driven multi-agent system designed for intelligent experience entities. It introduces a standardized Agent-to-Agent communication layer and incorporates an Experience Pack architecture for structured knowledge retention and continual learning. ([arxiv.org](https://arxiv.org/abs/2507.09497?utm_source=openai))\n",
       "\n",
       "- **Cognitive Kernel-Pro**: An open-source, multi-module agent framework aimed at democratizing the development and evaluation of advanced AI agents. It focuses on curating high-quality training data and enhancing agent robustness and performance. ([arxiv.org](https://arxiv.org/abs/2508.00414?utm_source=openai))\n",
       "\n",
       "Additionally, major tech companies have introduced their own frameworks:\n",
       "\n",
       "- **OpenAI Agents SDK**: A lightweight Python framework released in March 2025, focusing on creating multi-agent workflows with comprehensive tracing and guardrails. It is compatible with over 100 different LLMs. ([jlcnews.com](https://www.jlcnews.com/post/the-best-ai-agents-in-2025-tools-frameworks-and-platforms-compared?utm_source=openai))\n",
       "\n",
       "- **Google Agent Development Kit (ADK)**: Announced in April 2025, this modular framework integrates with Google's ecosystem, including Gemini and Vertex AI, supporting hierarchical agent compositions with minimal code. ([jlcnews.com](https://www.jlcnews.com/post/the-best-ai-agents-in-2025-tools-frameworks-and-platforms-compared?utm_source=openai))\n",
       "\n",
       "- **Amazon Bedrock AgentCore**: Unveiled at the AWS Summit New York 2025, this platform simplifies the development and deployment of advanced AI agents, offering modular services to support the full production lifecycle. ([techradar.com](https://www.techradar.com/pro/aws-looks-to-super-charge-ai-agents-with-amazon-bedrock-agentcore?utm_source=openai))\n",
       "\n",
       "These frameworks reflect the rapid advancements in AI agent development, offering diverse tools and capabilities for building intelligent, autonomous systems. "
      ],
      "text/plain": [
       "<IPython.core.display.Markdown object>"
      ]
     },
     "metadata": {},
     "output_type": "display_data"
    }
   ],
   "source": [
    "message = \"Latest AI Agent frameworks in 2025\"\n",
    "\n",
    "with trace(\"Search\"):\n",
    "    result = await Runner.run(search_agent, message)\n",
    "\n",
    "display(Markdown(result.final_output))"
   ]
  },
  {
   "cell_type": "markdown",
   "metadata": {},
   "source": [
    "### As always, take a look at the trace\n",
    "\n",
    "https://platform.openai.com/traces"
   ]
  },
  {
   "cell_type": "markdown",
   "metadata": {},
   "source": [
    "### We will now use Structured Outputs, and include a description of the fields"
   ]
  },
  {
   "cell_type": "code",
   "execution_count": 18,
   "metadata": {},
   "outputs": [],
   "source": [
    "# See note above about cost of WebSearchTool\n",
    "\n",
    "HOW_MANY_SEARCHES = 3\n",
    "\n",
    "INSTRUCTIONS = f\"You are a helpful research assistant. Given a query, come up with a set of web searches \\\n",
    "to perform to best answer the query. Output {HOW_MANY_SEARCHES} terms to query for.\"\n",
    "\n",
    "# Use Pydantic to define the Schema of our response - this is known as \"Structured Outputs\"\n",
    "# With massive thanks to student Wes C. for discovering and fixing a nasty bug with this!\n",
    "\n",
    "class WebSearchItem(BaseModel):\n",
    "    reason: str = Field(description=\"Your reasoning for why this search is important to the query.\")\n",
    "\n",
    "    query: str = Field(description=\"The search term to use for the web search.\")\n",
    "\n",
    "\n",
    "class WebSearchPlan(BaseModel):\n",
    "    searches: list[WebSearchItem] = Field(description=\"A list of web searches to perform to best answer the query.\")\n",
    "\n",
    "\n",
    "# this output_type is a Pydantic model, which is to tell the agent should output a WebSearchPlan object\n",
    "# How does model to generate a WebSearchPlan object?\n",
    "# The model will generate a string, and then the string will be parsed into a WebSearchPlan object\n",
    "# The string (json string) is generated by the model, and the model is trained to generate the string in a way that is compatible with the WebSearchPlan object\n",
    "planner_agent = Agent(\n",
    "    name=\"PlannerAgent\",\n",
    "    instructions=INSTRUCTIONS,\n",
    "    model=\"gpt-4o-mini\",\n",
    "    output_type=WebSearchPlan,\n",
    ")"
   ]
  },
  {
   "cell_type": "code",
   "execution_count": 7,
   "metadata": {},
   "outputs": [
    {
     "name": "stdout",
     "output_type": "stream",
     "text": [
      "searches=[WebSearchItem(reason='To find the most currently updated frameworks for AI agents in 2025 across multiple sources and industry news.', query='latest AI agent frameworks 2025'), WebSearchItem(reason='To gather detailed information about specific features and capabilities of AI agent frameworks released in 2025.', query='AI agent frameworks comparison 2025'), WebSearchItem(reason='To find expert opinions and analyses on trends in AI agent frameworks and their applications in 2025.', query='trends in AI agent frameworks 2025')]\n"
     ]
    }
   ],
   "source": [
    "\n",
    "message = \"Latest AI Agent frameworks in 2025\"\n",
    "\n",
    "with trace(\"Search\"):\n",
    "    result = await Runner.run(planner_agent, message)\n",
    "    print(result.final_output)"
   ]
  },
  {
   "cell_type": "code",
   "execution_count": 6,
   "metadata": {},
   "outputs": [],
   "source": [
    "@function_tool\n",
    "def send_email(subject: str, html_body: str) -> Dict[str, str]:\n",
    "    \"\"\" Send out an email with the given subject and HTML body \"\"\"\n",
    "    sg = sendgrid.SendGridAPIClient(api_key=os.environ.get('SENDGRID_API_KEY'))\n",
    "    from_email = Email(\"ed@edwarddonner.com\") # Change this to your verified email\n",
    "    to_email = To(\"ed.donner@gmail.com\") # Change this to your email\n",
    "    content = Content(\"text/html\", html_body)\n",
    "    mail = Mail(from_email, to_email, subject, content).get()\n",
    "    response = sg.client.mail.send.post(request_body=mail)\n",
    "    return {\"status\": \"success\"}"
   ]
  },
  {
   "cell_type": "code",
   "execution_count": 7,
   "metadata": {},
   "outputs": [
    {
     "data": {
      "text/plain": [
       "FunctionTool(name='send_email', description='Send out an email with the given subject and HTML body', params_json_schema={'properties': {'subject': {'title': 'Subject', 'type': 'string'}, 'html_body': {'title': 'Html Body', 'type': 'string'}}, 'required': ['subject', 'html_body'], 'title': 'send_email_args', 'type': 'object', 'additionalProperties': False}, on_invoke_tool=<function function_tool.<locals>._create_function_tool.<locals>._on_invoke_tool at 0x115c77880>, strict_json_schema=True, is_enabled=True)"
      ]
     },
     "execution_count": 7,
     "metadata": {},
     "output_type": "execute_result"
    }
   ],
   "source": [
    "send_email"
   ]
  },
  {
   "cell_type": "code",
   "execution_count": 19,
   "metadata": {},
   "outputs": [
    {
     "data": {
      "text/plain": [
       "FunctionTool(name='send_email', description='Send an email with the given subject and HTML body.', params_json_schema={'properties': {'subject': {'description': 'The email subject line', 'title': 'Subject', 'type': 'string'}, 'html_body': {'description': 'The email body content in HTML format', 'title': 'Html Body', 'type': 'string'}}, 'required': ['subject', 'html_body'], 'title': 'send_email_args', 'type': 'object', 'additionalProperties': False}, on_invoke_tool=<function function_tool.<locals>._create_function_tool.<locals>._on_invoke_tool at 0x1160927a0>, strict_json_schema=True, is_enabled=True)"
      ]
     },
     "execution_count": 19,
     "metadata": {},
     "output_type": "execute_result"
    }
   ],
   "source": [
    "import os\n",
    "import smtplib\n",
    "from email.mime.text import MIMEText\n",
    "from email.mime.multipart import MIMEMultipart\n",
    "from agents import function_tool\n",
    "\n",
    "\n",
    "@function_tool\n",
    "def send_email(subject: str, html_body: str):\n",
    "    \"\"\"\n",
    "    Send an email with the given subject and HTML body.\n",
    "    \n",
    "    Args:\n",
    "        subject: The email subject line\n",
    "        html_body: The email body content in HTML format\n",
    "    \"\"\"\n",
    "    from_email = os.getenv(\"GMAIL_EMAIL\")\n",
    "    password = os.getenv(\"GMAIL_APP_PASSWORD\")\n",
    "\n",
    "    if not password:\n",
    "        print(\"❌ Error: GMAIL_APP_PASSWORD not found in environment variables\")\n",
    "        return \"Error: Email credentials not configured\"\n",
    "\n",
    "    msg = MIMEMultipart()\n",
    "    msg['From'] = from_email\n",
    "    msg['To'] = \"angela1115fl@gmail.com\"\n",
    "    msg['Subject'] = subject\n",
    "    msg.attach(MIMEText(html_body, 'html'))\n",
    "\n",
    "    try:\n",
    "        with smtplib.SMTP('smtp.gmail.com', 587) as server:\n",
    "            server.starttls()\n",
    "            server.login(from_email, password)\n",
    "            server.send_message(msg)\n",
    "            print(\"✅ Email sent successfully!\")\n",
    "            return \"Email sent successfully\"\n",
    "    except Exception as e:\n",
    "        error_msg = f\"Error sending email: {e}\"\n",
    "        print(f\"❌ {error_msg}\")\n",
    "        return error_msg\n",
    "\n",
    "\n",
    "# Test sending to yourself\n",
    "# send_email(\"angela1115fl@gmail.com\", \"Test Subject\", \"Hello from Python!\")\n",
    "send_email"
   ]
  },
  {
   "cell_type": "code",
   "execution_count": 20,
   "metadata": {},
   "outputs": [],
   "source": [
    "INSTRUCTIONS = \"\"\"You are able to send a nicely formatted HTML email based on a detailed report.\n",
    "You will be provided with a detailed report. You should use your tool to send one email, providing the \n",
    "report converted into clean, well presented HTML with an appropriate subject line.\"\"\"\n",
    "\n",
    "email_agent = Agent(\n",
    "    name=\"Email agent\",\n",
    "    instructions=INSTRUCTIONS,\n",
    "    tools=[send_email],\n",
    "    model=\"gpt-4o-mini\",\n",
    ")\n",
    "\n"
   ]
  },
  {
   "cell_type": "code",
   "execution_count": 21,
   "metadata": {},
   "outputs": [],
   "source": [
    "INSTRUCTIONS = (\n",
    "    \"You are a senior researcher tasked with writing a cohesive report for a research query. \"\n",
    "    \"You will be provided with the original query, and some initial research done by a research assistant.\\n\"\n",
    "    \"You should first come up with an outline for the report that describes the structure and \"\n",
    "    \"flow of the report. Then, generate the report and return that as your final output.\\n\"\n",
    "    \"The final output should be in markdown format, and it should be lengthy and detailed. Aim \"\n",
    "    \"for 5-10 pages of content, at least 1000 words.\"\n",
    ")\n",
    "\n",
    "\n",
    "class ReportData(BaseModel):\n",
    "    short_summary: str = Field(description=\"A short 2-3 sentence summary of the findings.\")\n",
    "\n",
    "    markdown_report: str = Field(description=\"The final report\")\n",
    "\n",
    "    follow_up_questions: list[str] = Field(description=\"Suggested topics to research further\")\n",
    "\n",
    "\n",
    "writer_agent = Agent(\n",
    "    name=\"WriterAgent\",\n",
    "    instructions=INSTRUCTIONS,\n",
    "    model=\"gpt-4o-mini\",\n",
    "    output_type=ReportData,\n",
    ")"
   ]
  },
  {
   "cell_type": "markdown",
   "metadata": {},
   "source": [
    "### The next 3 functions will plan and execute the search, using planner_agent and search_agent"
   ]
  },
  {
   "cell_type": "code",
   "execution_count": 22,
   "metadata": {},
   "outputs": [],
   "source": [
    "async def plan_searches(query: str):\n",
    "    \"\"\" Use the planner_agent to plan which searches to run for the query \"\"\"\n",
    "    print(\"Planning searches...\")\n",
    "    result = await Runner.run(planner_agent, f\"Query: {query}\")\n",
    "    print(f\"Will perform {len(result.final_output.searches)} searches\")\n",
    "    return result.final_output\n",
    "\n",
    "async def perform_searches(search_plan: WebSearchPlan):\n",
    "    \"\"\" Call search() for each item in the search plan \"\"\"\n",
    "    print(\"Searching...\")\n",
    "    tasks = [asyncio.create_task(search(item)) for item in search_plan.searches]\n",
    "    results = await asyncio.gather(*tasks)\n",
    "    print(\"Finished searching\")\n",
    "    return results\n",
    "\n",
    "async def search(item: WebSearchItem):\n",
    "    \"\"\" Use the search agent to run a web search for each item in the search plan \"\"\"\n",
    "    input = f\"Search term: {item.query}\\nReason for searching: {item.reason}\"\n",
    "    result = await Runner.run(search_agent, input)\n",
    "    return result.final_output"
   ]
  },
  {
   "cell_type": "markdown",
   "metadata": {},
   "source": [
    "### The next 2 functions write a report and email it"
   ]
  },
  {
   "cell_type": "code",
   "execution_count": 23,
   "metadata": {},
   "outputs": [],
   "source": [
    "async def write_report(query: str, search_results: list[str]):\n",
    "    \"\"\" Use the writer agent to write a report based on the search results\"\"\"\n",
    "    print(\"Thinking about report...\")\n",
    "    input = f\"Original query: {query}\\nSummarized search results: {search_results}\"\n",
    "    result = await Runner.run(writer_agent, input)\n",
    "    print(\"Finished writing report\")\n",
    "    return result.final_output\n",
    "\n",
    "async def final_send_email(report: ReportData):\n",
    "    \"\"\" Use the email agent to send an email with the report \"\"\"\n",
    "    print(\"Writing email...\")\n",
    "    result = await Runner.run(email_agent, report.markdown_report)\n",
    "    print(\"Email sent\")\n",
    "    return report"
   ]
  },
  {
   "cell_type": "markdown",
   "metadata": {},
   "source": [
    "### Showtime!"
   ]
  },
  {
   "cell_type": "code",
   "execution_count": 24,
   "metadata": {},
   "outputs": [
    {
     "name": "stdout",
     "output_type": "stream",
     "text": [
      "Starting research...\n",
      "Planning searches...\n",
      "Will perform 3 searches\n",
      "Searching...\n",
      "Finished searching\n",
      "Thinking about report...\n",
      "Finished writing report\n",
      "Writing email...\n",
      "✅ Email sent successfully!\n",
      "Email sent\n",
      "Hooray!\n"
     ]
    }
   ],
   "source": [
    "query =\"Latest AI Agent frameworks in 2025\"\n",
    "\n",
    "with trace(\"Research trace\"):\n",
    "    print(\"Starting research...\")\n",
    "    search_plan = await plan_searches(query)\n",
    "    search_results = await perform_searches(search_plan)\n",
    "    report = await write_report(query, search_results)\n",
    "    await final_send_email(report)  \n",
    "    print(\"Hooray!\")\n",
    "\n",
    "\n"
   ]
  },
  {
   "cell_type": "code",
   "execution_count": 15,
   "metadata": {},
   "outputs": [
    {
     "data": {
      "text/plain": [
       "<function __main__.send_email(report: __main__.ReportData)>"
      ]
     },
     "execution_count": 15,
     "metadata": {},
     "output_type": "execute_result"
    }
   ],
   "source": [
    "send_email"
   ]
  },
  {
   "cell_type": "code",
   "execution_count": null,
   "metadata": {},
   "outputs": [
    {
     "data": {
      "text/plain": [
       "ReportData(short_summary='In 2025, significant advancements in AI agent frameworks have emerged, emphasizing flexibility, scalability, and enhanced capabilities for multi-agent tasks. Key frameworks such as Agent Lightning, GoalfyMax, and Amazon Bedrock AgentCore are paving the way for more autonomous, collaborative, and intelligent AI agents across various domains, ultimately supporting a trajectory towards Artificial General Intelligence (AGI).', markdown_report='# Latest AI Agent Frameworks in 2025\\n\\n## Table of Contents\\n1. **Introduction**  \\n2. **Current Landscape of AI Agent Frameworks**  \\n   1. Overview  \\n   2. Importance of AI Agents  \\n3. **Emerging AI Agent Frameworks**  \\n   1. Agent Lightning  \\n   2. GoalfyMax  \\n   3. AgentScope 1.0  \\n   4. Cognitive Kernel-Pro  \\n   5. Amazon Bedrock AgentCore  \\n   6. Salesforce Agentforce 360  \\n   7. OpenAI Agents SDK  \\n   8. Google Agent Development Kit (ADK)  \\n   9. Model Context Protocol (MCP)  \\n   10. Additional Notable Frameworks  \\n4. **Trends and Predictions for AI Agents**  \\n   1. Interoperability and Collaboration  \\n   2. Ethical Considerations  \\n   3. Future Outlook  \\n5. **Conclusion**  \\n6. **References**  \\n7. **Follow-Up Questions**  \\n\\n---\\n\\n## 1. Introduction  \\nThe field of artificial intelligence (AI) is witnessing rapid upgrades, particularly in developing frameworks for AI agents. As of 2025, many advanced frameworks have emerged, marking a significant leap toward creating more intelligent, autonomous, and collaborative AI agents. This report provides a detailed examination of these frameworks and their implications.\\n\\n## 2. Current Landscape of AI Agent Frameworks  \\n### Overview  \\nAI agents, designed to perform tasks autonomously or semi-autonomously, are at the forefront of integrating AI into daily applications. Enhancements in these frameworks facilitate the creation of agents capable of handling complex dialogues, learning over time, and integrating feedback efficiently.  \\n\\n### Importance of AI Agents  \\nAI agents are increasingly critical across diverse sectors, including healthcare, finance, customer service, and entertainment. They improve efficiency, enable automation of repetitive tasks, and pave the way for innovations such as hyper-personalized experiences in user interaction.  \\n\\n## 3. Emerging AI Agent Frameworks  \\nSeveral frameworks defining the landscape of AI agent development in 2025 include:\\n### 3.1 Agent Lightning  \\nAgent Lightning is a versatile framework that decouples reinforcement learning from the execution of AI agents. It implements a hierarchical reinforcement learning algorithm, LightningRL, making it easier for developers to create large language models (LLMs) that can efficiently execute complex tasks.  \\n\\n### 3.2 GoalfyMax  \\nThis multi-agent system standardizes communication between different agents, allowing them to share experiences effectively. GoalfyMax focuses on maintaining an Experience Pack architecture which fosters continuous learning and knowledge retention among agents.  \\n\\n### 3.3 AgentScope 1.0  \\nAgentScope provides developers with essential tools to build agentic applications. It focuses on abstraction of core components, ensuring that developers can leverage advancements in agent-environment interactions without delving into the underlying complexities.  \\n\\n### 3.4 Cognitive Kernel-Pro  \\nThis open-source framework aims to democratize the development of AI agents, enabling a broader community to contribute to advanced capabilities. Its focus on high-quality training data and innovative strategies for reflection enhances the robustness of agent performance.  \\n\\n### 3.5 Amazon Bedrock AgentCore  \\nAmazon Web Services (AWS) introduced this platform to simplify the lifecycle management of AI agents. It emphasizes modular services covering deployment, context management, and problem-solving, which enhances scalability and ease of integration.  \\n\\n### 3.6 Salesforce Agentforce 360  \\nDesigned for enterprise applications, Agentforce 360 integrates a powerful builder, allowing users to create agents using natural language, facilitating a more seamless interaction between humans and AI.  \\n\\n### 3.7 OpenAI Agents SDK  \\nThis lightweight Python framework focuses on multi-agent workflows, ensuring detailed monitoring and debugging capabilities across various provider LLMs. Its streamlined approach is beneficial for developers building complex systems.  \\n\\n### 3.8 Google Agent Development Kit (ADK)  \\nIntegrating with the Google ecosystem, this modular framework allows for quick agent development with minimal lines of code, promoting efficient hierarchical compositions.  \\n\\n### 3.9 Model Context Protocol (MCP)  \\nIntroduced by Anthropic, MCP standardizes how AI agents share and integrate data, thus enhancing the collaboration among AI agents across different systems.  \\n\\n### 3.10 Additional Notable Frameworks  \\nOther frameworks such as DoomArena for security evaluations and CrewAI for collaborative agent development reflect the broader innovations encapsulating AI agent capabilities in 2025.\\n\\n## 4. Trends and Predictions for AI Agents  \\n### 4.1 Interoperability and Collaboration  \\nThe frameworks developed in 2025 exhibit a clear trend towards enabling collaborative functionalities among AI agents. Protocols like MCP are vital in establishing common standards for data sharing, which will enhance overall interoperability.  \\n\\n### 4.2 Ethical Considerations  \\nAs AI agents become more integrated into everyday tasks, ethical issues such as data privacy, security, and the implications of autonomous decision-making rise to the fore. Frameworks must evolve to include robust ethical guidelines and safeguard mechanisms.  \\n\\n### 4.3 Future Outlook  \\nThe overarching aim for AI frameworks is to approach Artificial General Intelligence (AGI), where autonomous AI systems will handle tasks across various domains, leveraging long-term memory and emotional intelligence to create hyper-personalized user experiences.  \\n\\n## 5. Conclusion  \\nThe array of AI agent frameworks introduced in 2025 reflects a transformative period within the AI landscape. With advancements in interoperability, ease of development, and enhanced capabilities, these frameworks signal a strong path toward more autonomous and intelligent AI agents, shaping how technology will interact with humans in the near future.\\n\\n## 6. References  \\n- [Agent Lightning](https://arxiv.org/abs/2508.03680?utm_source=openai)  \\n- [GoalfyMax](https://arxiv.org/abs/2507.09497?utm_source=openai)  \\n- [AgentScope 1.0](https://arxiv.org/abs/2508.16279?utm_source=openai)  \\n- [Cognitive Kernel-Pro](https://arxiv.org/abs/2508.00414?utm_source=openai)  \\n- [Amazon Bedrock AgentCore](https://www.techradar.com/pro/aws-looks-to-super-charge-ai-agents-with-amazon-bedrock-agentcore?utm_source=openai)  \\n- [Salesforce Agentforce 360](https://www.itpro.com/technology/artificial-intelligence/salesforce-just-launched-a-new-catch-all-platform-to-build-enterprise-ai-agents?utm_source=openai)  \\n- [OpenAI Agents SDK](https://www.jlcnews.com/post/the-best-ai-agents-in-2025-tools-frameworks-and-platforms-compared?utm_source=openai)  \\n- [Google Agent Development Kit (ADK)](https://www.jlcnews.com/post/the-best-ai-agents-in-2025-tools-frameworks-and-platforms-compared?utm_source=openai)  \\n- [Model Context Protocol (MCP)](https://en.wikipedia.org/wiki/Model_Context_Protocol?utm_source=openai)  \\n\\n## 7. Follow-Up Questions  \\n- How do different AI frameworks compare in terms of performance and scalability?  \\n- What industry-specific applications are being developed using these frameworks?  \\n- What are the ongoing challenges in ensuring ethical AI deployment?  \\n- How is user feedback being integrated into the development of these AI frameworks?  \\n- What measures are being taken to ensure data privacy and security in AI agent frameworks?', follow_up_questions=['How do different AI frameworks compare in terms of performance and scalability?', 'What industry-specific applications are being developed using these frameworks?', 'What are the ongoing challenges in ensuring ethical AI deployment?', 'How is user feedback being integrated into the development of these AI frameworks?', 'What measures are being taken to ensure data privacy and security in AI agent frameworks?'])"
      ]
     },
     "execution_count": 14,
     "metadata": {},
     "output_type": "execute_result"
    }
   ],
   "source": [
    "report\n",
    "await send_email(report)  \n",
    "    print(\"Hooray!\")"
   ]
  },
  {
   "cell_type": "markdown",
   "metadata": {},
   "source": [
    "### As always, take a look at the trace\n",
    "\n",
    "https://platform.openai.com/traces"
   ]
  },
  {
   "cell_type": "markdown",
   "metadata": {},
   "source": [
    "<table style=\"margin: 0; text-align: left; width:100%\">\n",
    "    <tr>\n",
    "        <td style=\"width: 150px; height: 150px; vertical-align: middle;\">\n",
    "            <img src=\"../assets/thanks.png\" width=\"150\" height=\"150\" style=\"display: block;\" />\n",
    "        </td>\n",
    "        <td>\n",
    "            <h2 style=\"color:#00cc00;\">Congratulations on your progress, and a request</h2>\n",
    "            <span style=\"color:#00cc00;\">You've reached an important moment with the course; you've created a valuable Agent using one of the latest Agent frameworks. You've upskilled, and unlocked new commercial possibilities. Take a moment to celebrate your success!<br/><br/>Something I should ask you -- my editor would smack me if I didn't mention this. If you're able to rate the course on Udemy, I'd be seriously grateful: it's the most important way that Udemy decides whether to show the course to others and it makes a massive difference.<br/><br/>And another reminder to <a href=\"https://www.linkedin.com/in/eddonner/\">connect with me on LinkedIn</a> if you wish! If you wanted to post about your progress on the course, please tag me and I'll weigh in to increase your exposure.\n",
    "            </span>\n",
    "        </td>\n",
    "    </tr>"
   ]
  }
 ],
 "metadata": {
  "kernelspec": {
   "display_name": ".venv",
   "language": "python",
   "name": "python3"
  },
  "language_info": {
   "codemirror_mode": {
    "name": "ipython",
    "version": 3
   },
   "file_extension": ".py",
   "mimetype": "text/x-python",
   "name": "python",
   "nbconvert_exporter": "python",
   "pygments_lexer": "ipython3",
   "version": "3.12.7"
  }
 },
 "nbformat": 4,
 "nbformat_minor": 2
}
