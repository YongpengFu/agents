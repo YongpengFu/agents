{
 "cells": [
  {
   "cell_type": "markdown",
   "metadata": {},
   "source": [
    "## Welcome to the Second Lab - Week 1, Day 3\n",
    "\n",
    "Today we will work with lots of models! This is a way to get comfortable with APIs."
   ]
  },
  {
   "cell_type": "markdown",
   "metadata": {},
   "source": [
    "<table style=\"margin: 0; text-align: left; width:100%\">\n",
    "    <tr>\n",
    "        <td style=\"width: 150px; height: 150px; vertical-align: middle;\">\n",
    "            <img src=\"../assets/stop.png\" width=\"150\" height=\"150\" style=\"display: block;\" />\n",
    "        </td>\n",
    "        <td>\n",
    "            <h2 style=\"color:#ff7800;\">Important point - please read</h2>\n",
    "            <span style=\"color:#ff7800;\">The way I collaborate with you may be different to other courses you've taken. I prefer not to type code while you watch. Rather, I execute Jupyter Labs, like this, and give you an intuition for what's going on. My suggestion is that you carefully execute this yourself, <b>after</b> watching the lecture. Add print statements to understand what's going on, and then come up with your own variations.<br/><br/>If you have time, I'd love it if you submit a PR for changes in the community_contributions folder - instructions in the resources. Also, if you have a Github account, use this to showcase your variations. Not only is this essential practice, but it demonstrates your skills to others, including perhaps future clients or employers...\n",
    "            </span>\n",
    "        </td>\n",
    "    </tr>\n",
    "</table>"
   ]
  },
  {
   "cell_type": "code",
   "execution_count": 1,
   "metadata": {},
   "outputs": [],
   "source": [
    "# Start with imports - ask ChatGPT to explain any package that you don't know\n",
    "\n",
    "import os\n",
    "import json\n",
    "from dotenv import load_dotenv\n",
    "from openai import OpenAI\n",
    "from anthropic import Anthropic\n",
    "from IPython.display import Markdown, display"
   ]
  },
  {
   "cell_type": "code",
   "execution_count": 2,
   "metadata": {},
   "outputs": [
    {
     "data": {
      "text/plain": [
       "True"
      ]
     },
     "execution_count": 2,
     "metadata": {},
     "output_type": "execute_result"
    }
   ],
   "source": [
    "# Always remember to do this!\n",
    "load_dotenv(override=True)"
   ]
  },
  {
   "cell_type": "code",
   "execution_count": 3,
   "metadata": {},
   "outputs": [
    {
     "name": "stdout",
     "output_type": "stream",
     "text": [
      "OpenAI API Key exists and begins sk-proj-\n",
      "Anthropic API Key not set (and this is optional)\n",
      "Google API Key not set (and this is optional)\n",
      "DeepSeek API Key not set (and this is optional)\n",
      "Groq API Key not set (and this is optional)\n"
     ]
    }
   ],
   "source": [
    "# Print the key prefixes to help with any debugging\n",
    "\n",
    "openai_api_key = os.getenv('OPENAI_API_KEY')\n",
    "anthropic_api_key = os.getenv('ANTHROPIC_API_KEY')\n",
    "google_api_key = os.getenv('GOOGLE_API_KEY')\n",
    "deepseek_api_key = os.getenv('DEEPSEEK_API_KEY')\n",
    "groq_api_key = os.getenv('GROQ_API_KEY')\n",
    "\n",
    "if openai_api_key:\n",
    "    print(f\"OpenAI API Key exists and begins {openai_api_key[:8]}\")\n",
    "else:\n",
    "    print(\"OpenAI API Key not set\")\n",
    "    \n",
    "if anthropic_api_key:\n",
    "    print(f\"Anthropic API Key exists and begins {anthropic_api_key[:7]}\")\n",
    "else:\n",
    "    print(\"Anthropic API Key not set (and this is optional)\")\n",
    "\n",
    "if google_api_key:\n",
    "    print(f\"Google API Key exists and begins {google_api_key[:2]}\")\n",
    "else:\n",
    "    print(\"Google API Key not set (and this is optional)\")\n",
    "\n",
    "if deepseek_api_key:\n",
    "    print(f\"DeepSeek API Key exists and begins {deepseek_api_key[:3]}\")\n",
    "else:\n",
    "    print(\"DeepSeek API Key not set (and this is optional)\")\n",
    "\n",
    "if groq_api_key:\n",
    "    print(f\"Groq API Key exists and begins {groq_api_key[:4]}\")\n",
    "else:\n",
    "    print(\"Groq API Key not set (and this is optional)\")"
   ]
  },
  {
   "cell_type": "code",
   "execution_count": null,
   "metadata": {},
   "outputs": [],
   "source": [
    "request = \"Please come up with a challenging, nuanced question that I can ask a number of LLMs to evaluate their intelligence. \"\n",
    "request += \"Answer only with the question, no explanation.\"\n",
    "# The 'role': 'user' specifies that this message originates from the user (or the client application acting as the user)\n",
    "# and is directed to the AI model. This is a standard convention in many LLM APIs (like OpenAI's Chat Completions API)\n",
    "# to differentiate messages from various participants in a conversation (e.g., user, assistant, system).\n",
    "messages = [{\"role\": \"user\", \"content\": request}]"
   ]
  },
  {
   "cell_type": "code",
   "execution_count": 5,
   "metadata": {},
   "outputs": [
    {
     "data": {
      "text/plain": [
       "[{'role': 'user',\n",
       "  'content': 'Please come up with a challenging, nuanced question that I can ask a number of LLMs to evaluate their intelligence. Answer only with the question, no explanation.'}]"
      ]
     },
     "execution_count": 5,
     "metadata": {},
     "output_type": "execute_result"
    }
   ],
   "source": [
    "messages"
   ]
  },
  {
   "cell_type": "code",
   "execution_count": 6,
   "metadata": {},
   "outputs": [
    {
     "name": "stdout",
     "output_type": "stream",
     "text": [
      "If you were tasked with designing a city from scratch that promotes both environmental sustainability and social equity, what specific policies and infrastructure elements would you prioritize, and how would you address potential conflicts between these two objectives?\n"
     ]
    }
   ],
   "source": [
    "openai = OpenAI()\n",
    "response = openai.chat.completions.create(\n",
    "    model=\"gpt-4o-mini\",\n",
    "    messages=messages,\n",
    ")\n",
    "question = response.choices[0].message.content\n",
    "print(question)\n"
   ]
  },
  {
   "cell_type": "code",
   "execution_count": 24,
   "metadata": {},
   "outputs": [
    {
     "name": "stdout",
     "output_type": "stream",
     "text": [
      "Designing a city from scratch with a focus on environmental sustainability and social equity is an ambitious but achievable goal. Here’s a comprehensive approach that encompasses specific policies and infrastructure elements, along with strategies to resolve potential conflicts between these objectives:\n",
      "\n",
      "### Infrastructure Elements\n",
      "\n",
      "1. **Public Transportation Systems:**\n",
      "   - **Extensive Biking and Walking Paths:** Create a network of safe, accessible pathways to encourage non-motorized transportation. \n",
      "   - **Transit-Oriented Development (TOD):** Develop residential, commercial, and recreational areas within walking distance of public transportation hubs to reduce reliance on cars.\n",
      "\n",
      "2. **Green Buildings and Renewable Energy:**\n",
      "   - **Energy Efficiency Standards:** Mandate green building practices and energy efficiency measures for all new developments, including solar panels and green roofs.\n",
      "   - **Community Solar Initiatives:** Provide affordable access to solar energy for low-income residents through shared solar projects.\n",
      "\n",
      "3. **Urban Green Spaces:**\n",
      "   - **Parks and Community Gardens:** Allocate land for parks and community gardens that are accessible to all neighborhoods, enhancing biodiversity and promoting community cohesion.\n",
      "   - **Pocket Parks and Green Infrastructure:** Implement rain gardens, green roofs, and other infrastructure that manages stormwater and improves local ecosystems.\n",
      "\n",
      "4. **Waste Management Systems:**\n",
      "   - **Comprehensive Recycling and Composting Programs:** Ensure waste management services are widely available and educate citizens about sustainable waste practices.\n",
      "   - **Circular Economy Initiatives:** Encourage businesses to adopt circular economy principles, focusing on reusing materials and minimizing waste.\n",
      "\n",
      "5. **Affordable and Sustainable Housing:**\n",
      "   - **Mixed-Income Housing Developments:** Incorporate affordable housing into all neighborhoods to promote socio-economic diversity.\n",
      "   - **Incentives for Sustainable Housing:** Offer tax breaks or grants for developers who build affordable, energy-efficient homes.\n",
      "\n",
      "### Policies\n",
      "\n",
      "1. **Equitable Zoning Laws:**\n",
      "   - Develop zoning regulations that protect low-income communities from displacement while ensuring that new developments include affordable housing units.\n",
      "\n",
      "2. **Participatory Planning Processes:**\n",
      "   - Engage diverse community stakeholders in the planning process, ensuring that all voices—especially those from marginalized communities—are heard in decision-making.\n",
      "\n",
      "3. **Social Equity in City Services:**\n",
      "   - Ensure that investment in city services (e.g., healthcare, education, public safety) is equitably distributed across all neighborhoods, prioritizing historically underserved areas.\n",
      "\n",
      "4. **Sustainability Education and Job Training:**\n",
      "   - Implement educational programs and job training for renewable energy and sustainable practices targeted at marginalized communities to enhance local employment opportunities.\n",
      "\n",
      "5. **Climate Resilience and Disaster Preparedness:**\n",
      "   - Develop policies that not only focus on reducing carbon emissions but also equip vulnerable populations to respond to climate-related challenges.\n",
      "\n",
      "### Addressing Conflicts\n",
      "\n",
      "1. **Balancing Development with Preservation:**\n",
      "   - When planning for sustainability, ensure that measures do not lead to gentrification. Enforce protections against displacement through policy mechanisms like rent stabilization and the implementation of community land trusts.\n",
      "\n",
      "2. **Equitable Resource Allocation:**\n",
      "   - Regularly assess and adjust funding strategies to ensure that infrastructure investments do not favor affluent neighborhoods over marginalized ones, supporting projects that benefit all socio-economic groups.\n",
      "\n",
      "3. **Conflict Resolution Strategies:**\n",
      "   - Establish community boards that include representatives from different socio-economic and demographic backgrounds, allowing for the negotiation of potential conflicts and ensuring that all groups feel represented.\n",
      "\n",
      "4. **Monitoring and Evaluation:**\n",
      "   - Implement robust monitoring frameworks to assess the impact of policies on both sustainability and social equity, allowing for data-driven adjustments and continuous improvement.\n",
      "\n",
      "By prioritizing these infrastructure elements and policies, a city can be designed to promote environmental sustainability and social equity simultaneously. Open dialogue and adaptive management will be critical in navigating potential conflicts, ensuring both objectives enhance rather than detract from each other.\n"
     ]
    },
    {
     "data": {
      "text/markdown": [
       "Designing a city from scratch with a focus on environmental sustainability and social equity is an ambitious but achievable goal. Here’s a comprehensive approach that encompasses specific policies and infrastructure elements, along with strategies to resolve potential conflicts between these objectives:\n",
       "\n",
       "### Infrastructure Elements\n",
       "\n",
       "1. **Public Transportation Systems:**\n",
       "   - **Extensive Biking and Walking Paths:** Create a network of safe, accessible pathways to encourage non-motorized transportation. \n",
       "   - **Transit-Oriented Development (TOD):** Develop residential, commercial, and recreational areas within walking distance of public transportation hubs to reduce reliance on cars.\n",
       "\n",
       "2. **Green Buildings and Renewable Energy:**\n",
       "   - **Energy Efficiency Standards:** Mandate green building practices and energy efficiency measures for all new developments, including solar panels and green roofs.\n",
       "   - **Community Solar Initiatives:** Provide affordable access to solar energy for low-income residents through shared solar projects.\n",
       "\n",
       "3. **Urban Green Spaces:**\n",
       "   - **Parks and Community Gardens:** Allocate land for parks and community gardens that are accessible to all neighborhoods, enhancing biodiversity and promoting community cohesion.\n",
       "   - **Pocket Parks and Green Infrastructure:** Implement rain gardens, green roofs, and other infrastructure that manages stormwater and improves local ecosystems.\n",
       "\n",
       "4. **Waste Management Systems:**\n",
       "   - **Comprehensive Recycling and Composting Programs:** Ensure waste management services are widely available and educate citizens about sustainable waste practices.\n",
       "   - **Circular Economy Initiatives:** Encourage businesses to adopt circular economy principles, focusing on reusing materials and minimizing waste.\n",
       "\n",
       "5. **Affordable and Sustainable Housing:**\n",
       "   - **Mixed-Income Housing Developments:** Incorporate affordable housing into all neighborhoods to promote socio-economic diversity.\n",
       "   - **Incentives for Sustainable Housing:** Offer tax breaks or grants for developers who build affordable, energy-efficient homes.\n",
       "\n",
       "### Policies\n",
       "\n",
       "1. **Equitable Zoning Laws:**\n",
       "   - Develop zoning regulations that protect low-income communities from displacement while ensuring that new developments include affordable housing units.\n",
       "\n",
       "2. **Participatory Planning Processes:**\n",
       "   - Engage diverse community stakeholders in the planning process, ensuring that all voices—especially those from marginalized communities—are heard in decision-making.\n",
       "\n",
       "3. **Social Equity in City Services:**\n",
       "   - Ensure that investment in city services (e.g., healthcare, education, public safety) is equitably distributed across all neighborhoods, prioritizing historically underserved areas.\n",
       "\n",
       "4. **Sustainability Education and Job Training:**\n",
       "   - Implement educational programs and job training for renewable energy and sustainable practices targeted at marginalized communities to enhance local employment opportunities.\n",
       "\n",
       "5. **Climate Resilience and Disaster Preparedness:**\n",
       "   - Develop policies that not only focus on reducing carbon emissions but also equip vulnerable populations to respond to climate-related challenges.\n",
       "\n",
       "### Addressing Conflicts\n",
       "\n",
       "1. **Balancing Development with Preservation:**\n",
       "   - When planning for sustainability, ensure that measures do not lead to gentrification. Enforce protections against displacement through policy mechanisms like rent stabilization and the implementation of community land trusts.\n",
       "\n",
       "2. **Equitable Resource Allocation:**\n",
       "   - Regularly assess and adjust funding strategies to ensure that infrastructure investments do not favor affluent neighborhoods over marginalized ones, supporting projects that benefit all socio-economic groups.\n",
       "\n",
       "3. **Conflict Resolution Strategies:**\n",
       "   - Establish community boards that include representatives from different socio-economic and demographic backgrounds, allowing for the negotiation of potential conflicts and ensuring that all groups feel represented.\n",
       "\n",
       "4. **Monitoring and Evaluation:**\n",
       "   - Implement robust monitoring frameworks to assess the impact of policies on both sustainability and social equity, allowing for data-driven adjustments and continuous improvement.\n",
       "\n",
       "By prioritizing these infrastructure elements and policies, a city can be designed to promote environmental sustainability and social equity simultaneously. Open dialogue and adaptive management will be critical in navigating potential conflicts, ensuring both objectives enhance rather than detract from each other."
      ],
      "text/plain": [
       "<IPython.core.display.Markdown object>"
      ]
     },
     "metadata": {},
     "output_type": "display_data"
    }
   ],
   "source": [
    "competitors = []\n",
    "answers = []\n",
    "messages = [{\"role\": \"user\", \"content\": question}]\n",
    "\n",
    "openai = OpenAI()\n",
    "response = openai.chat.completions.create(\n",
    "    model=\"gpt-4o-mini\",\n",
    "    messages=messages,\n",
    ")\n",
    "answer = response.choices[0].message.content\n",
    "print(answer)\n",
    "\n",
    "display(Markdown(answer))\n",
    "competitors.append(\"gpt-4o-mini\")\n",
    "answers.append(answer)"
   ]
  },
  {
   "cell_type": "code",
   "execution_count": 7,
   "metadata": {},
   "outputs": [
    {
     "data": {
      "text/markdown": [
       "If a tree falls in a forest and no one is there to hear it, does it make a sound? Explore the implications of perception versus reality, and whether sound exists independently of an observer."
      ],
      "text/plain": [
       "<IPython.core.display.Markdown object>"
      ]
     },
     "metadata": {},
     "output_type": "display_data"
    },
    {
     "ename": "NameError",
     "evalue": "name 'competitors' is not defined",
     "output_type": "error",
     "traceback": [
      "\u001b[31m---------------------------------------------------------------------------\u001b[39m",
      "\u001b[31mNameError\u001b[39m                                 Traceback (most recent call last)",
      "\u001b[36mCell\u001b[39m\u001b[36m \u001b[39m\u001b[32mIn[7]\u001b[39m\u001b[32m, line 9\u001b[39m\n\u001b[32m      6\u001b[39m answer = response.choices[\u001b[32m0\u001b[39m].message.content\n\u001b[32m      8\u001b[39m display(Markdown(answer))\n\u001b[32m----> \u001b[39m\u001b[32m9\u001b[39m \u001b[43mcompetitors\u001b[49m.append(model_name)\n\u001b[32m     10\u001b[39m answers.append(answer)\n",
      "\u001b[31mNameError\u001b[39m: name 'competitors' is not defined"
     ]
    }
   ],
   "source": [
    "# The API we know well\n",
    "\n",
    "model_name = \"gpt-4o-mini\"\n",
    "\n",
    "response = openai.chat.completions.create(model=model_name, messages=messages)\n",
    "answer = response.choices[0].message.content\n",
    "\n",
    "display(Markdown(answer))\n",
    "competitors.append(model_name)\n",
    "answers.append(answer)"
   ]
  },
  {
   "cell_type": "code",
   "execution_count": null,
   "metadata": {},
   "outputs": [],
   "source": [
    "# Anthropic has a slightly different API, and Max Tokens is required\n",
    "\n",
    "model_name = \"claude-3-7-sonnet-latest\"\n",
    "\n",
    "claude = Anthropic()\n",
    "response = claude.messages.create(model=model_name, messages=messages, max_tokens=1000)\n",
    "answer = response.content[0].text\n",
    "\n",
    "display(Markdown(answer))\n",
    "competitors.append(model_name)\n",
    "answers.append(answer)"
   ]
  },
  {
   "cell_type": "code",
   "execution_count": null,
   "metadata": {},
   "outputs": [],
   "source": [
    "gemini = OpenAI(api_key=google_api_key, base_url=\"https://generativelanguage.googleapis.com/v1beta/openai/\")\n",
    "model_name = \"gemini-2.0-flash\"\n",
    "\n",
    "response = gemini.chat.completions.create(model=model_name, messages=messages)\n",
    "answer = response.choices[0].message.content\n",
    "\n",
    "display(Markdown(answer))\n",
    "competitors.append(model_name)\n",
    "answers.append(answer)"
   ]
  },
  {
   "cell_type": "code",
   "execution_count": null,
   "metadata": {},
   "outputs": [],
   "source": [
    "deepseek = OpenAI(api_key=deepseek_api_key, base_url=\"https://api.deepseek.com/v1\")\n",
    "model_name = \"deepseek-chat\"\n",
    "\n",
    "response = deepseek.chat.completions.create(model=model_name, messages=messages)\n",
    "answer = response.choices[0].message.content\n",
    "\n",
    "display(Markdown(answer))\n",
    "competitors.append(model_name)\n",
    "answers.append(answer)"
   ]
  },
  {
   "cell_type": "code",
   "execution_count": null,
   "metadata": {},
   "outputs": [],
   "source": [
    "groq = OpenAI(api_key=groq_api_key, base_url=\"https://api.groq.com/openai/v1\")\n",
    "model_name = \"llama-3.3-70b-versatile\"\n",
    "\n",
    "response = groq.chat.completions.create(model=model_name, messages=messages)\n",
    "answer = response.choices[0].message.content\n",
    "\n",
    "display(Markdown(answer))\n",
    "competitors.append(model_name)\n",
    "answers.append(answer)\n"
   ]
  },
  {
   "cell_type": "markdown",
   "metadata": {},
   "source": [
    "## For the next cell, we will use Ollama\n",
    "\n",
    "Ollama runs a local web service that gives an OpenAI compatible endpoint,  \n",
    "and runs models locally using high performance C++ code.\n",
    "\n",
    "If you don't have Ollama, install it here by visiting https://ollama.com then pressing Download and following the instructions.\n",
    "\n",
    "After it's installed, you should be able to visit here: http://localhost:11434 and see the message \"Ollama is running\"\n",
    "\n",
    "You might need to restart Cursor (and maybe reboot). Then open a Terminal (control+\\`) and run `ollama serve`\n",
    "\n",
    "Useful Ollama commands (run these in the terminal, or with an exclamation mark in this notebook):\n",
    "\n",
    "`ollama pull <model_name>` downloads a model locally  \n",
    "`ollama ls` lists all the models you've downloaded  \n",
    "`ollama rm <model_name>` deletes the specified model from your downloads"
   ]
  },
  {
   "cell_type": "code",
   "execution_count": 23,
   "metadata": {},
   "outputs": [
    {
     "name": "stdout",
     "output_type": "stream",
     "text": [
      "NAME               ID              SIZE      MODIFIED     \n",
      "llama3.2:latest    a80c4f17acd5    2.0 GB    23 hours ago    \n"
     ]
    }
   ],
   "source": [
    "!ollama ls"
   ]
  },
  {
   "cell_type": "markdown",
   "metadata": {},
   "source": [
    "<table style=\"margin: 0; text-align: left; width:100%\">\n",
    "    <tr>\n",
    "        <td style=\"width: 150px; height: 150px; vertical-align: middle;\">\n",
    "            <img src=\"../assets/stop.png\" width=\"150\" height=\"150\" style=\"display: block;\" />\n",
    "        </td>\n",
    "        <td>\n",
    "            <h2 style=\"color:#ff7800;\">Super important - ignore me at your peril!</h2>\n",
    "            <span style=\"color:#ff7800;\">The model called <b>llama3.3</b> is FAR too large for home computers - it's not intended for personal computing and will consume all your resources! Stick with the nicely sized <b>llama3.2</b> or <b>llama3.2:1b</b> and if you want larger, try llama3.1 or smaller variants of Qwen, Gemma, Phi or DeepSeek. See the <A href=\"https://ollama.com/models\">the Ollama models page</a> for a full list of models and sizes.\n",
    "            </span>\n",
    "        </td>\n",
    "    </tr>\n",
    "</table>"
   ]
  },
  {
   "cell_type": "code",
   "execution_count": 9,
   "metadata": {},
   "outputs": [
    {
     "name": "stdout",
     "output_type": "stream",
     "text": [
      "\u001b[?2026h\u001b[?25l\u001b[1Gpulling manifest ⠋ \u001b[K\u001b[?25h\u001b[?2026l\u001b[?2026h\u001b[?25l\u001b[1Gpulling manifest ⠙ \u001b[K\u001b[?25h\u001b[?2026l\u001b[?2026h\u001b[?25l\u001b[1Gpulling manifest ⠹ \u001b[K\u001b[?25h\u001b[?2026l\u001b[?2026h\u001b[?25l\u001b[1Gpulling manifest ⠸ \u001b[K\u001b[?25h\u001b[?2026l\u001b[?2026h\u001b[?25l\u001b[1Gpulling manifest ⠼ \u001b[K\u001b[?25h\u001b[?2026l\u001b[?2026h\u001b[?25l\u001b[1Gpulling manifest ⠴ \u001b[K\u001b[?25h\u001b[?2026l\u001b[?2026h\u001b[?25l\u001b[1Gpulling manifest \u001b[K\n",
      "pulling dde5aa3fc5ff: 100% ▕██████████████████▏ 2.0 GB                         \u001b[K\n",
      "pulling 966de95ca8a6: 100% ▕██████████████████▏ 1.4 KB                         \u001b[K\n",
      "pulling fcc5a6bec9da: 100% ▕██████████████████▏ 7.7 KB                         \u001b[K\n",
      "pulling a70ff7e570d9: 100% ▕██████████████████▏ 6.0 KB                         \u001b[K\n",
      "pulling 56bb8bd477a5: 100% ▕██████████████████▏   96 B                         \u001b[K\n",
      "pulling 34bb5ab01051: 100% ▕██████████████████▏  561 B                         \u001b[K\n",
      "verifying sha256 digest \u001b[K\n",
      "writing manifest \u001b[K\n",
      "success \u001b[K\u001b[?25h\u001b[?2026l\n"
     ]
    }
   ],
   "source": [
    "!ollama pull llama3.2"
   ]
  },
  {
   "cell_type": "code",
   "execution_count": 25,
   "metadata": {},
   "outputs": [
    {
     "data": {
      "text/markdown": [
       "Designing a city from scratch requires balancing environmental sustainability and social equity. Here's my vision for a sustainable and equitable city:\n",
       "\n",
       "**Environmental Sustainability:**\n",
       "\n",
       "1.  **Green Infrastructure**: Prioritize green spaces, parks, and urban forests to manage stormwater runoff, reduce air pollution, and mitigate the urban heat island effect.\n",
       "2.  **Renewable Energy**: Implement a decentralized energy system with solar, wind, and hydro power as primary sources. Invest in energy-efficient buildings and smart grids to optimize energy distribution.\n",
       "3.  **Recycling and Waste Management**: Design an advanced waste management system with minimal landfilling, promote composting and recycling, and encourage the use of eco-friendly products.\n",
       "4.  **Public Transportation**: Develop a comprehensive public transportation network, including electric buses and trains, to reduce reliance on fossil fuels and promote social equity.\n",
       "\n",
       "**Social Equity:**\n",
       "\n",
       "1.  **Affordable Housing**: Incorporate affordable housing options, including mixed-income developments, co-living spaces, and community land trusts.\n",
       "2.  **Education and Job Training**: Provide accessible education and job training programs, focusing on green technologies, renewable energy, and sustainable industries.\n",
       "3.  **Food Systems**: Develop community-based food systems with a focus on local, organic produce, and support small-scale farmers to ensure equitable access to nutritious food."
      ],
      "text/plain": [
       "<IPython.core.display.Markdown object>"
      ]
     },
     "metadata": {},
     "output_type": "display_data"
    }
   ],
   "source": [
    "ollama = OpenAI(base_url='http://localhost:11434/v1', api_key='ollama')\n",
    "model_name = \"llama3.2\"\n",
    "\n",
    "response = ollama.chat.completions.create(model=model_name, messages=messages)\n",
    "answer = response.choices[0].message.content\n",
    "\n",
    "display(Markdown(answer))\n",
    "competitors.append(model_name)\n",
    "answers.append(answer)"
   ]
  },
  {
   "cell_type": "code",
   "execution_count": 14,
   "metadata": {},
   "outputs": [
    {
     "name": "stdout",
     "output_type": "stream",
     "text": [
      "['llama3.2']\n",
      "['Designing a city from scratch that balances environmental sustainability and social equity requires careful consideration of various factors. Here are some specific policies and infrastructure elements I would prioritize:\\n\\n**Environmental Sustainability:**\\n\\n1. **Renewable Energy**: Incorporate 100% renewable energy sources, such as solar, wind, and hydro power, to minimize carbon emissions and mitigate climate change.\\n2. **Green Spaces**: Create extensive green spaces, parks, and gardens that provide habitat for local wildlife, help mitigate urban heat islands, and improve air quality.\\n3. **Efficient Transportation**: Implement a comprehensive public transportation system, including buses, trains, and bike-share programs, to reduce reliance on personal vehicles and promote car-sharing.\\n4. **Sustainable Water Management**: Develop a water management system that harvests rainwater, uses graywater reuse, and incorporates efficient irrigation systems for green spaces.\\n\\n**Social Equity:**\\n\\n1. **Affordable Housing**: Prioritize affordable housing units, with a focus on density and mixed-income developments, to ensure access to safe and decent living conditions.\\n2. **Community Facilities**: Develop community facilities, such as public schools, community centers, and healthcare services, that cater to diverse needs and facilitate social cohesion.\\n3. **Access to Healthcare**: Ensure universal access to quality healthcare services through a well-equipped network of medical facilities and telemedicine programs.\\n4. **Social Services**: Implement programs providing support for vulnerable populations, such as the elderly, youth, and people with disabilities, including job training, education, and mental health resources.\\n\\n**Balancing Environmental Sustainability and Social Equity:**\\n\\nTo address potential conflicts between these objectives, consider the following:\\n\\n1. **Integrated Design Process**: Collaborate with experts from various fields to integrate environmental sustainability and social equity considerations throughout the city\\'s design process.\\n2. **Social Impact Assessments**: Conduct regular social impact assessments to ensure that sustainable development initiatives prioritize human needs and well-being alongside environmental concerns.\\n3. **Community Engagement**: Foster open dialogue with local stakeholders, including residents, business owners, and community organizations, to ensure their voices are amplified in decision-making processes.\\n4. **Circular Economy Principles**: Incorporate circular economy principles into urban planning, focusing on resource conservation, waste reduction, and sharing economies to minimize waste and optimize resources.\\n5. **Participatory Budgeting**: Establish participatory budgeting processes that allow citizens to contribute ideas for how city funds are allocated to balance economic growth with sustainability and social equity goals.\\n\\n**Infrastructure Elements:**\\n\\n1. **Smart Grids and Energy Storage**: Develop smart grid systems that integrate energy storage, allowing for efficient use of renewable energy sources.\\n2. **Green Roofs and Walls**: Incorporate green roofs and walls into building design strategies to reduce heat island effects and improve air quality.\\n3. **Electric Vehicle Infrastructure**: Establish comprehensive charging stations, including Level 1 ( slow), Level 2 (fast), and DC (high-speed) fast chargers for residents and shared mobility services.\\n4. **Smart Water Management Systems**: Implement advanced water management systems that optimize rainwater harvesting, graywater reuse, and energy-efficient plumbing.\\n\\n**Key Performance Indicators (KPIs)**:\\n\\n1. **Greenhouse Gas Emissions Reduction**\\n2. **Water Conservation Rate**\\n3. **Energy Self-Sufficiency**\\n4. **Public Housing Occupancy Rates**\\n5. **Community Involvement in Decision-Making (Participatory Engagement Index)\"\\n\\nBy prioritizing these policies and infrastructure elements, the city can strike a balance between environmental sustainability and social equity, fostering a healthier, more resilient community for all citizens.']\n"
     ]
    }
   ],
   "source": [
    "# So where are we?\n",
    "\n",
    "print(competitors)\n",
    "print(answers)\n"
   ]
  },
  {
   "cell_type": "code",
   "execution_count": 26,
   "metadata": {},
   "outputs": [
    {
     "name": "stdout",
     "output_type": "stream",
     "text": [
      "Competitor: gpt-4o-mini\n",
      "\n",
      "Designing a city from scratch with a focus on environmental sustainability and social equity is an ambitious but achievable goal. Here’s a comprehensive approach that encompasses specific policies and infrastructure elements, along with strategies to resolve potential conflicts between these objectives:\n",
      "\n",
      "### Infrastructure Elements\n",
      "\n",
      "1. **Public Transportation Systems:**\n",
      "   - **Extensive Biking and Walking Paths:** Create a network of safe, accessible pathways to encourage non-motorized transportation. \n",
      "   - **Transit-Oriented Development (TOD):** Develop residential, commercial, and recreational areas within walking distance of public transportation hubs to reduce reliance on cars.\n",
      "\n",
      "2. **Green Buildings and Renewable Energy:**\n",
      "   - **Energy Efficiency Standards:** Mandate green building practices and energy efficiency measures for all new developments, including solar panels and green roofs.\n",
      "   - **Community Solar Initiatives:** Provide affordable access to solar energy for low-income residents through shared solar projects.\n",
      "\n",
      "3. **Urban Green Spaces:**\n",
      "   - **Parks and Community Gardens:** Allocate land for parks and community gardens that are accessible to all neighborhoods, enhancing biodiversity and promoting community cohesion.\n",
      "   - **Pocket Parks and Green Infrastructure:** Implement rain gardens, green roofs, and other infrastructure that manages stormwater and improves local ecosystems.\n",
      "\n",
      "4. **Waste Management Systems:**\n",
      "   - **Comprehensive Recycling and Composting Programs:** Ensure waste management services are widely available and educate citizens about sustainable waste practices.\n",
      "   - **Circular Economy Initiatives:** Encourage businesses to adopt circular economy principles, focusing on reusing materials and minimizing waste.\n",
      "\n",
      "5. **Affordable and Sustainable Housing:**\n",
      "   - **Mixed-Income Housing Developments:** Incorporate affordable housing into all neighborhoods to promote socio-economic diversity.\n",
      "   - **Incentives for Sustainable Housing:** Offer tax breaks or grants for developers who build affordable, energy-efficient homes.\n",
      "\n",
      "### Policies\n",
      "\n",
      "1. **Equitable Zoning Laws:**\n",
      "   - Develop zoning regulations that protect low-income communities from displacement while ensuring that new developments include affordable housing units.\n",
      "\n",
      "2. **Participatory Planning Processes:**\n",
      "   - Engage diverse community stakeholders in the planning process, ensuring that all voices—especially those from marginalized communities—are heard in decision-making.\n",
      "\n",
      "3. **Social Equity in City Services:**\n",
      "   - Ensure that investment in city services (e.g., healthcare, education, public safety) is equitably distributed across all neighborhoods, prioritizing historically underserved areas.\n",
      "\n",
      "4. **Sustainability Education and Job Training:**\n",
      "   - Implement educational programs and job training for renewable energy and sustainable practices targeted at marginalized communities to enhance local employment opportunities.\n",
      "\n",
      "5. **Climate Resilience and Disaster Preparedness:**\n",
      "   - Develop policies that not only focus on reducing carbon emissions but also equip vulnerable populations to respond to climate-related challenges.\n",
      "\n",
      "### Addressing Conflicts\n",
      "\n",
      "1. **Balancing Development with Preservation:**\n",
      "   - When planning for sustainability, ensure that measures do not lead to gentrification. Enforce protections against displacement through policy mechanisms like rent stabilization and the implementation of community land trusts.\n",
      "\n",
      "2. **Equitable Resource Allocation:**\n",
      "   - Regularly assess and adjust funding strategies to ensure that infrastructure investments do not favor affluent neighborhoods over marginalized ones, supporting projects that benefit all socio-economic groups.\n",
      "\n",
      "3. **Conflict Resolution Strategies:**\n",
      "   - Establish community boards that include representatives from different socio-economic and demographic backgrounds, allowing for the negotiation of potential conflicts and ensuring that all groups feel represented.\n",
      "\n",
      "4. **Monitoring and Evaluation:**\n",
      "   - Implement robust monitoring frameworks to assess the impact of policies on both sustainability and social equity, allowing for data-driven adjustments and continuous improvement.\n",
      "\n",
      "By prioritizing these infrastructure elements and policies, a city can be designed to promote environmental sustainability and social equity simultaneously. Open dialogue and adaptive management will be critical in navigating potential conflicts, ensuring both objectives enhance rather than detract from each other.\n",
      "Competitor: llama3.2\n",
      "\n",
      "Designing a city from scratch requires balancing environmental sustainability and social equity. Here's my vision for a sustainable and equitable city:\n",
      "\n",
      "**Environmental Sustainability:**\n",
      "\n",
      "1.  **Green Infrastructure**: Prioritize green spaces, parks, and urban forests to manage stormwater runoff, reduce air pollution, and mitigate the urban heat island effect.\n",
      "2.  **Renewable Energy**: Implement a decentralized energy system with solar, wind, and hydro power as primary sources. Invest in energy-efficient buildings and smart grids to optimize energy distribution.\n",
      "3.  **Recycling and Waste Management**: Design an advanced waste management system with minimal landfilling, promote composting and recycling, and encourage the use of eco-friendly products.\n",
      "4.  **Public Transportation**: Develop a comprehensive public transportation network, including electric buses and trains, to reduce reliance on fossil fuels and promote social equity.\n",
      "\n",
      "**Social Equity:**\n",
      "\n",
      "1.  **Affordable Housing**: Incorporate affordable housing options, including mixed-income developments, co-living spaces, and community land trusts.\n",
      "2.  **Education and Job Training**: Provide accessible education and job training programs, focusing on green technologies, renewable energy, and sustainable industries.\n",
      "3.  **Food Systems**: Develop community-based food systems with a focus on local, organic produce, and support small-scale farmers to ensure equitable access to nutritious food.\n"
     ]
    }
   ],
   "source": [
    "# It's nice to know how to use \"zip\"\n",
    "for competitor, answer in zip(competitors, answers):\n",
    "    print(f\"Competitor: {competitor}\\n\\n{answer}\")\n"
   ]
  },
  {
   "cell_type": "code",
   "execution_count": 27,
   "metadata": {},
   "outputs": [],
   "source": [
    "# Let's bring this together - note the use of \"enumerate\"\n",
    "\n",
    "together = \"\"\n",
    "for index, answer in enumerate(answers):\n",
    "    together += f\"# Response from competitor {index+1}\\n\\n\"\n",
    "    together += answer + \"\\n\\n\""
   ]
  },
  {
   "cell_type": "code",
   "execution_count": 28,
   "metadata": {},
   "outputs": [
    {
     "name": "stdout",
     "output_type": "stream",
     "text": [
      "# Response from competitor 1\n",
      "\n",
      "Designing a city from scratch with a focus on environmental sustainability and social equity is an ambitious but achievable goal. Here’s a comprehensive approach that encompasses specific policies and infrastructure elements, along with strategies to resolve potential conflicts between these objectives:\n",
      "\n",
      "### Infrastructure Elements\n",
      "\n",
      "1. **Public Transportation Systems:**\n",
      "   - **Extensive Biking and Walking Paths:** Create a network of safe, accessible pathways to encourage non-motorized transportation. \n",
      "   - **Transit-Oriented Development (TOD):** Develop residential, commercial, and recreational areas within walking distance of public transportation hubs to reduce reliance on cars.\n",
      "\n",
      "2. **Green Buildings and Renewable Energy:**\n",
      "   - **Energy Efficiency Standards:** Mandate green building practices and energy efficiency measures for all new developments, including solar panels and green roofs.\n",
      "   - **Community Solar Initiatives:** Provide affordable access to solar energy for low-income residents through shared solar projects.\n",
      "\n",
      "3. **Urban Green Spaces:**\n",
      "   - **Parks and Community Gardens:** Allocate land for parks and community gardens that are accessible to all neighborhoods, enhancing biodiversity and promoting community cohesion.\n",
      "   - **Pocket Parks and Green Infrastructure:** Implement rain gardens, green roofs, and other infrastructure that manages stormwater and improves local ecosystems.\n",
      "\n",
      "4. **Waste Management Systems:**\n",
      "   - **Comprehensive Recycling and Composting Programs:** Ensure waste management services are widely available and educate citizens about sustainable waste practices.\n",
      "   - **Circular Economy Initiatives:** Encourage businesses to adopt circular economy principles, focusing on reusing materials and minimizing waste.\n",
      "\n",
      "5. **Affordable and Sustainable Housing:**\n",
      "   - **Mixed-Income Housing Developments:** Incorporate affordable housing into all neighborhoods to promote socio-economic diversity.\n",
      "   - **Incentives for Sustainable Housing:** Offer tax breaks or grants for developers who build affordable, energy-efficient homes.\n",
      "\n",
      "### Policies\n",
      "\n",
      "1. **Equitable Zoning Laws:**\n",
      "   - Develop zoning regulations that protect low-income communities from displacement while ensuring that new developments include affordable housing units.\n",
      "\n",
      "2. **Participatory Planning Processes:**\n",
      "   - Engage diverse community stakeholders in the planning process, ensuring that all voices—especially those from marginalized communities—are heard in decision-making.\n",
      "\n",
      "3. **Social Equity in City Services:**\n",
      "   - Ensure that investment in city services (e.g., healthcare, education, public safety) is equitably distributed across all neighborhoods, prioritizing historically underserved areas.\n",
      "\n",
      "4. **Sustainability Education and Job Training:**\n",
      "   - Implement educational programs and job training for renewable energy and sustainable practices targeted at marginalized communities to enhance local employment opportunities.\n",
      "\n",
      "5. **Climate Resilience and Disaster Preparedness:**\n",
      "   - Develop policies that not only focus on reducing carbon emissions but also equip vulnerable populations to respond to climate-related challenges.\n",
      "\n",
      "### Addressing Conflicts\n",
      "\n",
      "1. **Balancing Development with Preservation:**\n",
      "   - When planning for sustainability, ensure that measures do not lead to gentrification. Enforce protections against displacement through policy mechanisms like rent stabilization and the implementation of community land trusts.\n",
      "\n",
      "2. **Equitable Resource Allocation:**\n",
      "   - Regularly assess and adjust funding strategies to ensure that infrastructure investments do not favor affluent neighborhoods over marginalized ones, supporting projects that benefit all socio-economic groups.\n",
      "\n",
      "3. **Conflict Resolution Strategies:**\n",
      "   - Establish community boards that include representatives from different socio-economic and demographic backgrounds, allowing for the negotiation of potential conflicts and ensuring that all groups feel represented.\n",
      "\n",
      "4. **Monitoring and Evaluation:**\n",
      "   - Implement robust monitoring frameworks to assess the impact of policies on both sustainability and social equity, allowing for data-driven adjustments and continuous improvement.\n",
      "\n",
      "By prioritizing these infrastructure elements and policies, a city can be designed to promote environmental sustainability and social equity simultaneously. Open dialogue and adaptive management will be critical in navigating potential conflicts, ensuring both objectives enhance rather than detract from each other.\n",
      "\n",
      "# Response from competitor 2\n",
      "\n",
      "Designing a city from scratch requires balancing environmental sustainability and social equity. Here's my vision for a sustainable and equitable city:\n",
      "\n",
      "**Environmental Sustainability:**\n",
      "\n",
      "1.  **Green Infrastructure**: Prioritize green spaces, parks, and urban forests to manage stormwater runoff, reduce air pollution, and mitigate the urban heat island effect.\n",
      "2.  **Renewable Energy**: Implement a decentralized energy system with solar, wind, and hydro power as primary sources. Invest in energy-efficient buildings and smart grids to optimize energy distribution.\n",
      "3.  **Recycling and Waste Management**: Design an advanced waste management system with minimal landfilling, promote composting and recycling, and encourage the use of eco-friendly products.\n",
      "4.  **Public Transportation**: Develop a comprehensive public transportation network, including electric buses and trains, to reduce reliance on fossil fuels and promote social equity.\n",
      "\n",
      "**Social Equity:**\n",
      "\n",
      "1.  **Affordable Housing**: Incorporate affordable housing options, including mixed-income developments, co-living spaces, and community land trusts.\n",
      "2.  **Education and Job Training**: Provide accessible education and job training programs, focusing on green technologies, renewable energy, and sustainable industries.\n",
      "3.  **Food Systems**: Develop community-based food systems with a focus on local, organic produce, and support small-scale farmers to ensure equitable access to nutritious food.\n",
      "\n",
      "\n"
     ]
    }
   ],
   "source": [
    "print(together)"
   ]
  },
  {
   "cell_type": "code",
   "execution_count": 29,
   "metadata": {},
   "outputs": [],
   "source": [
    "judge = f\"\"\"You are judging a competition between {len(competitors)} competitors.\n",
    "Each model has been given this question:\n",
    "\n",
    "{question}\n",
    "\n",
    "Your job is to evaluate each response for clarity and strength of argument, and rank them in order of best to worst.\n",
    "Respond with JSON, and only JSON, with the following format:\n",
    "{{\"results\": [\"best competitor number\", \"second best competitor number\", \"third best competitor number\", ...]}}\n",
    "\n",
    "Here are the responses from each competitor:\n",
    "\n",
    "{together}\n",
    "\n",
    "Now respond with the JSON with the ranked order of the competitors, nothing else. Do not include markdown formatting or code blocks.\"\"\"\n"
   ]
  },
  {
   "cell_type": "code",
   "execution_count": 30,
   "metadata": {},
   "outputs": [
    {
     "name": "stdout",
     "output_type": "stream",
     "text": [
      "You are judging a competition between 2 competitors.\n",
      "Each model has been given this question:\n",
      "\n",
      "If you were tasked with designing a city from scratch that promotes both environmental sustainability and social equity, what specific policies and infrastructure elements would you prioritize, and how would you address potential conflicts between these two objectives?\n",
      "\n",
      "Your job is to evaluate each response for clarity and strength of argument, and rank them in order of best to worst.\n",
      "Respond with JSON, and only JSON, with the following format:\n",
      "{\"results\": [\"best competitor number\", \"second best competitor number\", \"third best competitor number\", ...]}\n",
      "\n",
      "Here are the responses from each competitor:\n",
      "\n",
      "# Response from competitor 1\n",
      "\n",
      "Designing a city from scratch with a focus on environmental sustainability and social equity is an ambitious but achievable goal. Here’s a comprehensive approach that encompasses specific policies and infrastructure elements, along with strategies to resolve potential conflicts between these objectives:\n",
      "\n",
      "### Infrastructure Elements\n",
      "\n",
      "1. **Public Transportation Systems:**\n",
      "   - **Extensive Biking and Walking Paths:** Create a network of safe, accessible pathways to encourage non-motorized transportation. \n",
      "   - **Transit-Oriented Development (TOD):** Develop residential, commercial, and recreational areas within walking distance of public transportation hubs to reduce reliance on cars.\n",
      "\n",
      "2. **Green Buildings and Renewable Energy:**\n",
      "   - **Energy Efficiency Standards:** Mandate green building practices and energy efficiency measures for all new developments, including solar panels and green roofs.\n",
      "   - **Community Solar Initiatives:** Provide affordable access to solar energy for low-income residents through shared solar projects.\n",
      "\n",
      "3. **Urban Green Spaces:**\n",
      "   - **Parks and Community Gardens:** Allocate land for parks and community gardens that are accessible to all neighborhoods, enhancing biodiversity and promoting community cohesion.\n",
      "   - **Pocket Parks and Green Infrastructure:** Implement rain gardens, green roofs, and other infrastructure that manages stormwater and improves local ecosystems.\n",
      "\n",
      "4. **Waste Management Systems:**\n",
      "   - **Comprehensive Recycling and Composting Programs:** Ensure waste management services are widely available and educate citizens about sustainable waste practices.\n",
      "   - **Circular Economy Initiatives:** Encourage businesses to adopt circular economy principles, focusing on reusing materials and minimizing waste.\n",
      "\n",
      "5. **Affordable and Sustainable Housing:**\n",
      "   - **Mixed-Income Housing Developments:** Incorporate affordable housing into all neighborhoods to promote socio-economic diversity.\n",
      "   - **Incentives for Sustainable Housing:** Offer tax breaks or grants for developers who build affordable, energy-efficient homes.\n",
      "\n",
      "### Policies\n",
      "\n",
      "1. **Equitable Zoning Laws:**\n",
      "   - Develop zoning regulations that protect low-income communities from displacement while ensuring that new developments include affordable housing units.\n",
      "\n",
      "2. **Participatory Planning Processes:**\n",
      "   - Engage diverse community stakeholders in the planning process, ensuring that all voices—especially those from marginalized communities—are heard in decision-making.\n",
      "\n",
      "3. **Social Equity in City Services:**\n",
      "   - Ensure that investment in city services (e.g., healthcare, education, public safety) is equitably distributed across all neighborhoods, prioritizing historically underserved areas.\n",
      "\n",
      "4. **Sustainability Education and Job Training:**\n",
      "   - Implement educational programs and job training for renewable energy and sustainable practices targeted at marginalized communities to enhance local employment opportunities.\n",
      "\n",
      "5. **Climate Resilience and Disaster Preparedness:**\n",
      "   - Develop policies that not only focus on reducing carbon emissions but also equip vulnerable populations to respond to climate-related challenges.\n",
      "\n",
      "### Addressing Conflicts\n",
      "\n",
      "1. **Balancing Development with Preservation:**\n",
      "   - When planning for sustainability, ensure that measures do not lead to gentrification. Enforce protections against displacement through policy mechanisms like rent stabilization and the implementation of community land trusts.\n",
      "\n",
      "2. **Equitable Resource Allocation:**\n",
      "   - Regularly assess and adjust funding strategies to ensure that infrastructure investments do not favor affluent neighborhoods over marginalized ones, supporting projects that benefit all socio-economic groups.\n",
      "\n",
      "3. **Conflict Resolution Strategies:**\n",
      "   - Establish community boards that include representatives from different socio-economic and demographic backgrounds, allowing for the negotiation of potential conflicts and ensuring that all groups feel represented.\n",
      "\n",
      "4. **Monitoring and Evaluation:**\n",
      "   - Implement robust monitoring frameworks to assess the impact of policies on both sustainability and social equity, allowing for data-driven adjustments and continuous improvement.\n",
      "\n",
      "By prioritizing these infrastructure elements and policies, a city can be designed to promote environmental sustainability and social equity simultaneously. Open dialogue and adaptive management will be critical in navigating potential conflicts, ensuring both objectives enhance rather than detract from each other.\n",
      "\n",
      "# Response from competitor 2\n",
      "\n",
      "Designing a city from scratch requires balancing environmental sustainability and social equity. Here's my vision for a sustainable and equitable city:\n",
      "\n",
      "**Environmental Sustainability:**\n",
      "\n",
      "1.  **Green Infrastructure**: Prioritize green spaces, parks, and urban forests to manage stormwater runoff, reduce air pollution, and mitigate the urban heat island effect.\n",
      "2.  **Renewable Energy**: Implement a decentralized energy system with solar, wind, and hydro power as primary sources. Invest in energy-efficient buildings and smart grids to optimize energy distribution.\n",
      "3.  **Recycling and Waste Management**: Design an advanced waste management system with minimal landfilling, promote composting and recycling, and encourage the use of eco-friendly products.\n",
      "4.  **Public Transportation**: Develop a comprehensive public transportation network, including electric buses and trains, to reduce reliance on fossil fuels and promote social equity.\n",
      "\n",
      "**Social Equity:**\n",
      "\n",
      "1.  **Affordable Housing**: Incorporate affordable housing options, including mixed-income developments, co-living spaces, and community land trusts.\n",
      "2.  **Education and Job Training**: Provide accessible education and job training programs, focusing on green technologies, renewable energy, and sustainable industries.\n",
      "3.  **Food Systems**: Develop community-based food systems with a focus on local, organic produce, and support small-scale farmers to ensure equitable access to nutritious food.\n",
      "\n",
      "\n",
      "\n",
      "Now respond with the JSON with the ranked order of the competitors, nothing else. Do not include markdown formatting or code blocks.\n"
     ]
    }
   ],
   "source": [
    "print(judge)"
   ]
  },
  {
   "cell_type": "code",
   "execution_count": 31,
   "metadata": {},
   "outputs": [],
   "source": [
    "judge_messages = [{\"role\": \"user\", \"content\": judge}]"
   ]
  },
  {
   "cell_type": "code",
   "execution_count": 32,
   "metadata": {},
   "outputs": [
    {
     "name": "stdout",
     "output_type": "stream",
     "text": [
      "{\"results\": [\"1\", \"2\"]}\n"
     ]
    }
   ],
   "source": [
    "# Judgement time!\n",
    "\n",
    "openai = OpenAI()\n",
    "response = openai.chat.completions.create(\n",
    "    model=\"o3-mini\",\n",
    "    messages=judge_messages,\n",
    ")\n",
    "results = response.choices[0].message.content\n",
    "print(results)\n"
   ]
  },
  {
   "cell_type": "code",
   "execution_count": null,
   "metadata": {},
   "outputs": [],
   "source": []
  },
  {
   "cell_type": "code",
   "execution_count": 33,
   "metadata": {},
   "outputs": [
    {
     "name": "stdout",
     "output_type": "stream",
     "text": [
      "Rank 1: gpt-4o-mini\n",
      "Rank 2: llama3.2\n"
     ]
    }
   ],
   "source": [
    "# OK let's turn this into results!\n",
    "\n",
    "results_dict = json.loads(results)\n",
    "ranks = results_dict[\"results\"]\n",
    "for index, result in enumerate(ranks):\n",
    "    competitor = competitors[int(result)-1]\n",
    "    print(f\"Rank {index+1}: {competitor}\")"
   ]
  },
  {
   "cell_type": "markdown",
   "metadata": {},
   "source": [
    "<table style=\"margin: 0; text-align: left; width:100%\">\n",
    "    <tr>\n",
    "        <td style=\"width: 150px; height: 150px; vertical-align: middle;\">\n",
    "            <img src=\"../assets/exercise.png\" width=\"150\" height=\"150\" style=\"display: block;\" />\n",
    "        </td>\n",
    "        <td>\n",
    "            <h2 style=\"color:#ff7800;\">Exercise</h2>\n",
    "            <span style=\"color:#ff7800;\">Which pattern(s) did this use? Try updating this to add another Agentic design pattern.\n",
    "            </span>\n",
    "        </td>\n",
    "    </tr>\n",
    "</table>"
   ]
  },
  {
   "cell_type": "markdown",
   "metadata": {},
   "source": [
    "<table style=\"margin: 0; text-align: left; width:100%\">\n",
    "    <tr>\n",
    "        <td style=\"width: 150px; height: 150px; vertical-align: middle;\">\n",
    "            <img src=\"../assets/business.png\" width=\"150\" height=\"150\" style=\"display: block;\" />\n",
    "        </td>\n",
    "        <td>\n",
    "            <h2 style=\"color:#00bfff;\">Commercial implications</h2>\n",
    "            <span style=\"color:#00bfff;\">These kinds of patterns - to send a task to multiple models, and evaluate results,\n",
    "            are common where you need to improve the quality of your LLM response. This approach can be universally applied\n",
    "            to business projects where accuracy is critical.\n",
    "            </span>\n",
    "        </td>\n",
    "    </tr>\n",
    "</table>"
   ]
  }
 ],
 "metadata": {
  "kernelspec": {
   "display_name": ".venv",
   "language": "python",
   "name": "python3"
  },
  "language_info": {
   "codemirror_mode": {
    "name": "ipython",
    "version": 3
   },
   "file_extension": ".py",
   "mimetype": "text/x-python",
   "name": "python",
   "nbconvert_exporter": "python",
   "pygments_lexer": "ipython3",
   "version": "3.12.7"
  }
 },
 "nbformat": 4,
 "nbformat_minor": 2
}
